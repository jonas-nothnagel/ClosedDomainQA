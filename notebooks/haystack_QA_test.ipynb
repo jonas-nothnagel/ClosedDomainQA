{
 "cells": [
  {
   "cell_type": "code",
   "execution_count": 5,
   "metadata": {},
   "outputs": [],
   "source": [
    "import pickle\n",
    "import pandas as pd\n",
    "import os"
   ]
  },
  {
   "cell_type": "code",
   "execution_count": 2,
   "metadata": {},
   "outputs": [
    {
     "name": "stdout",
     "output_type": "stream",
     "text": [
      "30e249ac9ff112aba5592be72ea3ca19f9221965eb424555810e762c1cd6bcca\r\n"
     ]
    }
   ],
   "source": [
    "#import haystack and FARM utils\n",
    "from haystack import Finder\n",
    "from haystack.preprocessor.cleaning import clean_wiki_text\n",
    "from haystack.preprocessor.utils import convert_files_to_dicts, fetch_archive_from_http\n",
    "from haystack.reader.farm import FARMReader\n",
    "from haystack.reader.transformers import TransformersReader\n",
    "from haystack.utils import print_answers\n",
    "\n",
    "#initialize elasticsearch docker image\n",
    "! docker run -d -p 9200:9200 -e \"discovery.type=single-node\" elasticsearch:7.6.2"
   ]
  },
  {
   "cell_type": "code",
   "execution_count": 3,
   "metadata": {},
   "outputs": [
    {
     "name": "stderr",
     "output_type": "stream",
     "text": [
      "10/03/2020 09:55:54 - INFO - elasticsearch -   PUT http://localhost:9200/document [status:200 request:0.321s]\n",
      "10/03/2020 09:55:54 - INFO - elasticsearch -   PUT http://localhost:9200/label [status:200 request:0.241s]\n"
     ]
    }
   ],
   "source": [
    "#initialize document storage\n",
    "from haystack.document_store.elasticsearch import ElasticsearchDocumentStore\n",
    "document_store = ElasticsearchDocumentStore(host=\"localhost\", username=\"\", password=\"\", index=\"document\")"
   ]
  },
  {
   "cell_type": "code",
   "execution_count": 6,
   "metadata": {},
   "outputs": [],
   "source": [
    "#import data\n",
    "'''processed log-frames'''\n",
    "with open(os.path.abspath(os.path.join('..', 'data'))+'/logframes_clean.pkl', 'rb') as handle:\n",
    "    data = pickle.load(handle)"
   ]
  },
  {
   "cell_type": "code",
   "execution_count": 7,
   "metadata": {},
   "outputs": [],
   "source": [
    "splitted = pd.concat([pd.Series(row['PIMS_ID'], row['full_obj_or_outcome'].split(\"',\"), )              \n",
    "                    for _, row in data.iterrows()]).reset_index()\n",
    "\n",
    "splitted = splitted.rename(columns={\"index\": \"text\", 0: \"PIMS_ID\"})"
   ]
  },
  {
   "cell_type": "code",
   "execution_count": 43,
   "metadata": {},
   "outputs": [],
   "source": [
    "dict_list = []\n",
    "for i, row in splitted.iterrows():\n",
    "    write_dicts = {'text': row.text, 'PIMS_ID': row.PIMS_ID}\n",
    "    dict_list.append(write_dicts)\n",
    "dicts = tuple(dict_list)"
   ]
  },
  {
   "cell_type": "code",
   "execution_count": 46,
   "metadata": {
    "collapsed": true
   },
   "outputs": [
    {
     "name": "stderr",
     "output_type": "stream",
     "text": [
      "10/03/2020 10:04:52 - INFO - elasticsearch -   POST http://localhost:9200/_bulk?refresh=wait_for [status:200 request:0.585s]\n",
      "10/03/2020 10:04:53 - INFO - elasticsearch -   POST http://localhost:9200/_bulk?refresh=wait_for [status:200 request:1.043s]\n",
      "10/03/2020 10:04:54 - INFO - elasticsearch -   POST http://localhost:9200/_bulk?refresh=wait_for [status:200 request:1.035s]\n",
      "10/03/2020 10:04:55 - INFO - elasticsearch -   POST http://localhost:9200/_bulk?refresh=wait_for [status:200 request:1.027s]\n",
      "10/03/2020 10:04:56 - INFO - elasticsearch -   POST http://localhost:9200/_bulk?refresh=wait_for [status:200 request:1.098s]\n",
      "10/03/2020 10:04:57 - INFO - elasticsearch -   POST http://localhost:9200/_bulk?refresh=wait_for [status:200 request:0.981s]\n",
      "10/03/2020 10:04:58 - INFO - elasticsearch -   POST http://localhost:9200/_bulk?refresh=wait_for [status:200 request:1.017s]\n",
      "10/03/2020 10:04:59 - INFO - elasticsearch -   POST http://localhost:9200/_bulk?refresh=wait_for [status:200 request:1.076s]\n",
      "10/03/2020 10:05:00 - INFO - elasticsearch -   POST http://localhost:9200/_bulk?refresh=wait_for [status:200 request:1.008s]\n",
      "10/03/2020 10:05:02 - INFO - elasticsearch -   POST http://localhost:9200/_bulk?refresh=wait_for [status:200 request:1.023s]\n",
      "10/03/2020 10:05:03 - INFO - elasticsearch -   POST http://localhost:9200/_bulk?refresh=wait_for [status:200 request:1.037s]\n",
      "10/03/2020 10:05:04 - INFO - elasticsearch -   POST http://localhost:9200/_bulk?refresh=wait_for [status:200 request:1.006s]\n",
      "10/03/2020 10:05:05 - INFO - elasticsearch -   POST http://localhost:9200/_bulk?refresh=wait_for [status:200 request:1.016s]\n",
      "10/03/2020 10:05:06 - INFO - elasticsearch -   POST http://localhost:9200/_bulk?refresh=wait_for [status:200 request:1.013s]\n",
      "10/03/2020 10:05:07 - INFO - elasticsearch -   POST http://localhost:9200/_bulk?refresh=wait_for [status:200 request:1.002s]\n",
      "10/03/2020 10:05:08 - INFO - elasticsearch -   POST http://localhost:9200/_bulk?refresh=wait_for [status:200 request:1.009s]\n",
      "10/03/2020 10:05:09 - INFO - elasticsearch -   POST http://localhost:9200/_bulk?refresh=wait_for [status:200 request:1.043s]\n",
      "10/03/2020 10:05:10 - INFO - elasticsearch -   POST http://localhost:9200/_bulk?refresh=wait_for [status:200 request:1.019s]\n",
      "10/03/2020 10:05:11 - INFO - elasticsearch -   POST http://localhost:9200/_bulk?refresh=wait_for [status:200 request:1.033s]\n",
      "10/03/2020 10:05:12 - INFO - elasticsearch -   POST http://localhost:9200/_bulk?refresh=wait_for [status:200 request:1.061s]\n",
      "10/03/2020 10:05:13 - INFO - elasticsearch -   POST http://localhost:9200/_bulk?refresh=wait_for [status:200 request:0.984s]\n",
      "10/03/2020 10:05:14 - INFO - elasticsearch -   POST http://localhost:9200/_bulk?refresh=wait_for [status:200 request:1.004s]\n",
      "10/03/2020 10:05:15 - INFO - elasticsearch -   POST http://localhost:9200/_bulk?refresh=wait_for [status:200 request:1.025s]\n",
      "10/03/2020 10:05:16 - INFO - elasticsearch -   POST http://localhost:9200/_bulk?refresh=wait_for [status:200 request:1.035s]\n",
      "10/03/2020 10:05:18 - INFO - elasticsearch -   POST http://localhost:9200/_bulk?refresh=wait_for [status:200 request:1.037s]\n",
      "10/03/2020 10:05:19 - INFO - elasticsearch -   POST http://localhost:9200/_bulk?refresh=wait_for [status:200 request:0.974s]\n",
      "10/03/2020 10:05:20 - INFO - elasticsearch -   POST http://localhost:9200/_bulk?refresh=wait_for [status:200 request:1.019s]\n",
      "10/03/2020 10:05:21 - INFO - elasticsearch -   POST http://localhost:9200/_bulk?refresh=wait_for [status:200 request:1.001s]\n",
      "10/03/2020 10:05:22 - INFO - elasticsearch -   POST http://localhost:9200/_bulk?refresh=wait_for [status:200 request:0.985s]\n",
      "10/03/2020 10:05:23 - INFO - elasticsearch -   POST http://localhost:9200/_bulk?refresh=wait_for [status:200 request:1.000s]\n",
      "10/03/2020 10:05:24 - INFO - elasticsearch -   POST http://localhost:9200/_bulk?refresh=wait_for [status:200 request:1.008s]\n",
      "10/03/2020 10:05:25 - INFO - elasticsearch -   POST http://localhost:9200/_bulk?refresh=wait_for [status:200 request:1.010s]\n",
      "10/03/2020 10:05:26 - INFO - elasticsearch -   POST http://localhost:9200/_bulk?refresh=wait_for [status:200 request:0.997s]\n",
      "10/03/2020 10:05:27 - INFO - elasticsearch -   POST http://localhost:9200/_bulk?refresh=wait_for [status:200 request:0.996s]\n",
      "10/03/2020 10:05:28 - INFO - elasticsearch -   POST http://localhost:9200/_bulk?refresh=wait_for [status:200 request:0.994s]\n",
      "10/03/2020 10:05:29 - INFO - elasticsearch -   POST http://localhost:9200/_bulk?refresh=wait_for [status:200 request:1.034s]\n",
      "10/03/2020 10:05:30 - INFO - elasticsearch -   POST http://localhost:9200/_bulk?refresh=wait_for [status:200 request:0.967s]\n",
      "10/03/2020 10:05:31 - INFO - elasticsearch -   POST http://localhost:9200/_bulk?refresh=wait_for [status:200 request:0.991s]\n",
      "10/03/2020 10:05:32 - INFO - elasticsearch -   POST http://localhost:9200/_bulk?refresh=wait_for [status:200 request:1.021s]\n",
      "10/03/2020 10:05:33 - INFO - elasticsearch -   POST http://localhost:9200/_bulk?refresh=wait_for [status:200 request:1.023s]\n",
      "10/03/2020 10:05:34 - INFO - elasticsearch -   POST http://localhost:9200/_bulk?refresh=wait_for [status:200 request:1.002s]\n",
      "10/03/2020 10:05:35 - INFO - elasticsearch -   POST http://localhost:9200/_bulk?refresh=wait_for [status:200 request:0.994s]\n",
      "10/03/2020 10:05:36 - INFO - elasticsearch -   POST http://localhost:9200/_bulk?refresh=wait_for [status:200 request:0.993s]\n",
      "10/03/2020 10:05:37 - INFO - elasticsearch -   POST http://localhost:9200/_bulk?refresh=wait_for [status:200 request:1.002s]\n",
      "10/03/2020 10:05:38 - INFO - elasticsearch -   POST http://localhost:9200/_bulk?refresh=wait_for [status:200 request:1.014s]\n",
      "10/03/2020 10:05:39 - INFO - elasticsearch -   POST http://localhost:9200/_bulk?refresh=wait_for [status:200 request:1.005s]\n",
      "10/03/2020 10:05:41 - INFO - elasticsearch -   POST http://localhost:9200/_bulk?refresh=wait_for [status:200 request:0.984s]\n",
      "10/03/2020 10:05:42 - INFO - elasticsearch -   POST http://localhost:9200/_bulk?refresh=wait_for [status:200 request:1.001s]\n",
      "10/03/2020 10:05:43 - INFO - elasticsearch -   POST http://localhost:9200/_bulk?refresh=wait_for [status:200 request:1.003s]\n",
      "10/03/2020 10:05:44 - INFO - elasticsearch -   POST http://localhost:9200/_bulk?refresh=wait_for [status:200 request:1.009s]\n",
      "10/03/2020 10:05:45 - INFO - elasticsearch -   POST http://localhost:9200/_bulk?refresh=wait_for [status:200 request:0.999s]\n",
      "10/03/2020 10:05:46 - INFO - elasticsearch -   POST http://localhost:9200/_bulk?refresh=wait_for [status:200 request:1.001s]\n",
      "10/03/2020 10:05:47 - INFO - elasticsearch -   POST http://localhost:9200/_bulk?refresh=wait_for [status:200 request:1.002s]\n",
      "10/03/2020 10:05:48 - INFO - elasticsearch -   POST http://localhost:9200/_bulk?refresh=wait_for [status:200 request:1.009s]\n",
      "10/03/2020 10:05:49 - INFO - elasticsearch -   POST http://localhost:9200/_bulk?refresh=wait_for [status:200 request:1.023s]\n",
      "10/03/2020 10:05:50 - INFO - elasticsearch -   POST http://localhost:9200/_bulk?refresh=wait_for [status:200 request:0.972s]\n",
      "10/03/2020 10:05:51 - INFO - elasticsearch -   POST http://localhost:9200/_bulk?refresh=wait_for [status:200 request:1.004s]\n",
      "10/03/2020 10:05:52 - INFO - elasticsearch -   POST http://localhost:9200/_bulk?refresh=wait_for [status:200 request:1.001s]\n",
      "10/03/2020 10:05:53 - INFO - elasticsearch -   POST http://localhost:9200/_bulk?refresh=wait_for [status:200 request:0.993s]\n",
      "10/03/2020 10:05:54 - INFO - elasticsearch -   POST http://localhost:9200/_bulk?refresh=wait_for [status:200 request:0.996s]\n",
      "10/03/2020 10:05:55 - INFO - elasticsearch -   POST http://localhost:9200/_bulk?refresh=wait_for [status:200 request:0.996s]\n",
      "10/03/2020 10:05:56 - INFO - elasticsearch -   POST http://localhost:9200/_bulk?refresh=wait_for [status:200 request:1.000s]\n",
      "10/03/2020 10:05:57 - INFO - elasticsearch -   POST http://localhost:9200/_bulk?refresh=wait_for [status:200 request:0.999s]\n",
      "10/03/2020 10:05:58 - INFO - elasticsearch -   POST http://localhost:9200/_bulk?refresh=wait_for [status:200 request:1.018s]\n",
      "10/03/2020 10:05:59 - INFO - elasticsearch -   POST http://localhost:9200/_bulk?refresh=wait_for [status:200 request:0.992s]\n",
      "10/03/2020 10:06:00 - INFO - elasticsearch -   POST http://localhost:9200/_bulk?refresh=wait_for [status:200 request:1.001s]\n"
     ]
    },
    {
     "name": "stderr",
     "output_type": "stream",
     "text": [
      "10/03/2020 10:06:01 - INFO - elasticsearch -   POST http://localhost:9200/_bulk?refresh=wait_for [status:200 request:1.001s]\n",
      "10/03/2020 10:06:02 - INFO - elasticsearch -   POST http://localhost:9200/_bulk?refresh=wait_for [status:200 request:1.002s]\n",
      "10/03/2020 10:06:03 - INFO - elasticsearch -   POST http://localhost:9200/_bulk?refresh=wait_for [status:200 request:0.755s]\n",
      "10/03/2020 10:06:04 - INFO - elasticsearch -   POST http://localhost:9200/_bulk?refresh=wait_for [status:200 request:1.014s]\n",
      "10/03/2020 10:06:05 - INFO - elasticsearch -   POST http://localhost:9200/_bulk?refresh=wait_for [status:200 request:0.998s]\n",
      "10/03/2020 10:06:06 - INFO - elasticsearch -   POST http://localhost:9200/_bulk?refresh=wait_for [status:200 request:1.002s]\n",
      "10/03/2020 10:06:07 - INFO - elasticsearch -   POST http://localhost:9200/_bulk?refresh=wait_for [status:200 request:1.003s]\n",
      "10/03/2020 10:06:08 - INFO - elasticsearch -   POST http://localhost:9200/_bulk?refresh=wait_for [status:200 request:0.981s]\n",
      "10/03/2020 10:06:09 - INFO - elasticsearch -   POST http://localhost:9200/_bulk?refresh=wait_for [status:200 request:1.009s]\n",
      "10/03/2020 10:06:10 - INFO - elasticsearch -   POST http://localhost:9200/_bulk?refresh=wait_for [status:200 request:0.998s]\n",
      "10/03/2020 10:06:11 - INFO - elasticsearch -   POST http://localhost:9200/_bulk?refresh=wait_for [status:200 request:0.999s]\n",
      "10/03/2020 10:06:12 - INFO - elasticsearch -   POST http://localhost:9200/_bulk?refresh=wait_for [status:200 request:0.996s]\n",
      "10/03/2020 10:06:13 - INFO - elasticsearch -   POST http://localhost:9200/_bulk?refresh=wait_for [status:200 request:0.994s]\n",
      "10/03/2020 10:06:14 - INFO - elasticsearch -   POST http://localhost:9200/_bulk?refresh=wait_for [status:200 request:1.004s]\n",
      "10/03/2020 10:06:15 - INFO - elasticsearch -   POST http://localhost:9200/_bulk?refresh=wait_for [status:200 request:1.001s]\n",
      "10/03/2020 10:06:16 - INFO - elasticsearch -   POST http://localhost:9200/_bulk?refresh=wait_for [status:200 request:1.003s]\n",
      "10/03/2020 10:06:17 - INFO - elasticsearch -   POST http://localhost:9200/_bulk?refresh=wait_for [status:200 request:1.003s]\n",
      "10/03/2020 10:06:18 - INFO - elasticsearch -   POST http://localhost:9200/_bulk?refresh=wait_for [status:200 request:0.999s]\n",
      "10/03/2020 10:06:19 - INFO - elasticsearch -   POST http://localhost:9200/_bulk?refresh=wait_for [status:200 request:0.999s]\n",
      "10/03/2020 10:06:21 - INFO - elasticsearch -   POST http://localhost:9200/_bulk?refresh=wait_for [status:200 request:1.008s]\n",
      "10/03/2020 10:06:22 - INFO - elasticsearch -   POST http://localhost:9200/_bulk?refresh=wait_for [status:200 request:1.025s]\n",
      "10/03/2020 10:06:23 - INFO - elasticsearch -   POST http://localhost:9200/_bulk?refresh=wait_for [status:200 request:0.995s]\n",
      "10/03/2020 10:06:24 - INFO - elasticsearch -   POST http://localhost:9200/_bulk?refresh=wait_for [status:200 request:0.999s]\n",
      "10/03/2020 10:06:25 - INFO - elasticsearch -   POST http://localhost:9200/_bulk?refresh=wait_for [status:200 request:0.997s]\n",
      "10/03/2020 10:06:26 - INFO - elasticsearch -   POST http://localhost:9200/_bulk?refresh=wait_for [status:200 request:1.003s]\n",
      "10/03/2020 10:06:27 - INFO - elasticsearch -   POST http://localhost:9200/_bulk?refresh=wait_for [status:200 request:0.993s]\n",
      "10/03/2020 10:06:28 - INFO - elasticsearch -   POST http://localhost:9200/_bulk?refresh=wait_for [status:200 request:1.001s]\n",
      "10/03/2020 10:06:29 - INFO - elasticsearch -   POST http://localhost:9200/_bulk?refresh=wait_for [status:200 request:1.007s]\n",
      "10/03/2020 10:06:30 - INFO - elasticsearch -   POST http://localhost:9200/_bulk?refresh=wait_for [status:200 request:1.005s]\n",
      "10/03/2020 10:06:31 - INFO - elasticsearch -   POST http://localhost:9200/_bulk?refresh=wait_for [status:200 request:0.997s]\n",
      "10/03/2020 10:06:32 - INFO - elasticsearch -   POST http://localhost:9200/_bulk?refresh=wait_for [status:200 request:1.001s]\n",
      "10/03/2020 10:06:33 - INFO - elasticsearch -   POST http://localhost:9200/_bulk?refresh=wait_for [status:200 request:1.004s]\n",
      "10/03/2020 10:06:34 - INFO - elasticsearch -   POST http://localhost:9200/_bulk?refresh=wait_for [status:200 request:1.009s]\n",
      "10/03/2020 10:06:35 - INFO - elasticsearch -   POST http://localhost:9200/_bulk?refresh=wait_for [status:200 request:1.003s]\n",
      "10/03/2020 10:06:36 - INFO - elasticsearch -   POST http://localhost:9200/_bulk?refresh=wait_for [status:200 request:1.019s]\n",
      "10/03/2020 10:06:37 - INFO - elasticsearch -   POST http://localhost:9200/_bulk?refresh=wait_for [status:200 request:1.005s]\n",
      "10/03/2020 10:06:38 - INFO - elasticsearch -   POST http://localhost:9200/_bulk?refresh=wait_for [status:200 request:0.973s]\n",
      "10/03/2020 10:06:39 - INFO - elasticsearch -   POST http://localhost:9200/_bulk?refresh=wait_for [status:200 request:1.005s]\n",
      "10/03/2020 10:06:40 - INFO - elasticsearch -   POST http://localhost:9200/_bulk?refresh=wait_for [status:200 request:1.004s]\n",
      "10/03/2020 10:06:41 - INFO - elasticsearch -   POST http://localhost:9200/_bulk?refresh=wait_for [status:200 request:0.998s]\n",
      "10/03/2020 10:06:42 - INFO - elasticsearch -   POST http://localhost:9200/_bulk?refresh=wait_for [status:200 request:1.000s]\n",
      "10/03/2020 10:06:43 - INFO - elasticsearch -   POST http://localhost:9200/_bulk?refresh=wait_for [status:200 request:0.997s]\n",
      "10/03/2020 10:06:44 - INFO - elasticsearch -   POST http://localhost:9200/_bulk?refresh=wait_for [status:200 request:1.012s]\n",
      "10/03/2020 10:06:45 - INFO - elasticsearch -   POST http://localhost:9200/_bulk?refresh=wait_for [status:200 request:0.985s]\n",
      "10/03/2020 10:06:46 - INFO - elasticsearch -   POST http://localhost:9200/_bulk?refresh=wait_for [status:200 request:0.996s]\n",
      "10/03/2020 10:06:47 - INFO - elasticsearch -   POST http://localhost:9200/_bulk?refresh=wait_for [status:200 request:1.003s]\n",
      "10/03/2020 10:06:48 - INFO - elasticsearch -   POST http://localhost:9200/_bulk?refresh=wait_for [status:200 request:1.003s]\n",
      "10/03/2020 10:06:49 - INFO - elasticsearch -   POST http://localhost:9200/_bulk?refresh=wait_for [status:200 request:1.000s]\n",
      "10/03/2020 10:06:50 - INFO - elasticsearch -   POST http://localhost:9200/_bulk?refresh=wait_for [status:200 request:1.003s]\n",
      "10/03/2020 10:06:51 - INFO - elasticsearch -   POST http://localhost:9200/_bulk?refresh=wait_for [status:200 request:0.997s]\n",
      "10/03/2020 10:06:52 - INFO - elasticsearch -   POST http://localhost:9200/_bulk?refresh=wait_for [status:200 request:1.002s]\n",
      "10/03/2020 10:06:53 - INFO - elasticsearch -   POST http://localhost:9200/_bulk?refresh=wait_for [status:200 request:1.005s]\n",
      "10/03/2020 10:06:54 - INFO - elasticsearch -   POST http://localhost:9200/_bulk?refresh=wait_for [status:200 request:1.014s]\n",
      "10/03/2020 10:06:55 - INFO - elasticsearch -   POST http://localhost:9200/_bulk?refresh=wait_for [status:200 request:0.994s]\n",
      "10/03/2020 10:06:56 - INFO - elasticsearch -   POST http://localhost:9200/_bulk?refresh=wait_for [status:200 request:1.002s]\n"
     ]
    }
   ],
   "source": [
    "document_store.write_documents(dicts)"
   ]
  },
  {
   "cell_type": "code",
   "execution_count": 50,
   "metadata": {},
   "outputs": [],
   "source": [
    "from haystack.retriever.sparse import ElasticsearchRetriever\n",
    "retriever = ElasticsearchRetriever(document_store=document_store)"
   ]
  },
  {
   "cell_type": "code",
   "execution_count": 51,
   "metadata": {
    "collapsed": true
   },
   "outputs": [
    {
     "name": "stderr",
     "output_type": "stream",
     "text": [
      "10/03/2020 10:07:54 - INFO - farm.utils -   device: cpu n_gpu: 0, distributed training: False, automatic mixed precision training: None\n",
      "10/03/2020 10:07:54 - INFO - farm.infer -   Could not find `deepset/roberta-base-squad2` locally. Try to download from model hub ...\n",
      "10/03/2020 10:07:55 - INFO - filelock -   Lock 5161073776 acquired on /Users/jonas/.cache/torch/transformers/f7d4b9379a9c487fa03ccf3d8e00058faa9d664cf01fc03409138246f48760da.c6288e0f84ec797ba5c525c923a5bbc479b47c761aded9734a5f6a473b044c8d.lock\n"
     ]
    },
    {
     "data": {
      "application/vnd.jupyter.widget-view+json": {
       "model_id": "a8efd41c298848b883ab8135e872f90b",
       "version_major": 2,
       "version_minor": 0
      },
      "text/plain": [
       "HBox(children=(FloatProgress(value=0.0, description='Downloading', max=559.0, style=ProgressStyle(description_…"
      ]
     },
     "metadata": {},
     "output_type": "display_data"
    },
    {
     "name": "stderr",
     "output_type": "stream",
     "text": [
      "10/03/2020 10:07:56 - INFO - filelock -   Lock 5161073776 released on /Users/jonas/.cache/torch/transformers/f7d4b9379a9c487fa03ccf3d8e00058faa9d664cf01fc03409138246f48760da.c6288e0f84ec797ba5c525c923a5bbc479b47c761aded9734a5f6a473b044c8d.lock\n"
     ]
    },
    {
     "name": "stdout",
     "output_type": "stream",
     "text": [
      "\n"
     ]
    },
    {
     "name": "stderr",
     "output_type": "stream",
     "text": [
      "10/03/2020 10:07:56 - INFO - filelock -   Lock 5296399120 acquired on /Users/jonas/.cache/torch/transformers/8c0c8b6371111ac5fbc176aefcf9dbe129db7be654c569b8375dd3712fc4dc67.d045adc91e17ecdf7dc3eeff4c875df94bdf2eb749d72b3ae47ae93f8e85213c.lock\n"
     ]
    },
    {
     "data": {
      "application/vnd.jupyter.widget-view+json": {
       "model_id": "672f3e5b2e49417696ae223dc49a9390",
       "version_major": 2,
       "version_minor": 0
      },
      "text/plain": [
       "HBox(children=(FloatProgress(value=0.0, description='Downloading', max=498637366.0, style=ProgressStyle(descri…"
      ]
     },
     "metadata": {},
     "output_type": "display_data"
    },
    {
     "name": "stderr",
     "output_type": "stream",
     "text": [
      "10/03/2020 10:11:01 - INFO - filelock -   Lock 5296399120 released on /Users/jonas/.cache/torch/transformers/8c0c8b6371111ac5fbc176aefcf9dbe129db7be654c569b8375dd3712fc4dc67.d045adc91e17ecdf7dc3eeff4c875df94bdf2eb749d72b3ae47ae93f8e85213c.lock\n"
     ]
    },
    {
     "name": "stdout",
     "output_type": "stream",
     "text": [
      "\n"
     ]
    },
    {
     "name": "stderr",
     "output_type": "stream",
     "text": [
      "10/03/2020 10:11:07 - WARNING - farm.modeling.language_model -   Could not automatically detect from language model name what language it is. \n",
      "\t We guess it's an *ENGLISH* model ... \n",
      "\t If not: Init the language model by supplying the 'language' param.\n",
      "10/03/2020 10:11:14 - WARNING - farm.modeling.prediction_head -   Some unused parameters are passed to the QuestionAnsweringHead. Might not be a problem. Params: {\"loss_ignore_index\": -1}\n",
      "10/03/2020 10:11:16 - INFO - filelock -   Lock 5297618032 acquired on /Users/jonas/.cache/torch/transformers/1e3af82648d7190d959a9d76d727ef629b1ca51b3da6ad04039122453cb56307.6a4061e8fc00057d21d80413635a86fdcf55b6e7594ad9e25257d2f99a02f4be.lock\n"
     ]
    },
    {
     "data": {
      "application/vnd.jupyter.widget-view+json": {
       "model_id": "d6bf2cfa58324481ba6333fcef0dea01",
       "version_major": 2,
       "version_minor": 0
      },
      "text/plain": [
       "HBox(children=(FloatProgress(value=0.0, description='Downloading', max=898822.0, style=ProgressStyle(descripti…"
      ]
     },
     "metadata": {},
     "output_type": "display_data"
    },
    {
     "name": "stderr",
     "output_type": "stream",
     "text": [
      "10/03/2020 10:11:19 - INFO - filelock -   Lock 5297618032 released on /Users/jonas/.cache/torch/transformers/1e3af82648d7190d959a9d76d727ef629b1ca51b3da6ad04039122453cb56307.6a4061e8fc00057d21d80413635a86fdcf55b6e7594ad9e25257d2f99a02f4be.lock\n"
     ]
    },
    {
     "name": "stdout",
     "output_type": "stream",
     "text": [
      "\n"
     ]
    },
    {
     "name": "stderr",
     "output_type": "stream",
     "text": [
      "10/03/2020 10:11:19 - INFO - filelock -   Lock 5297617696 acquired on /Users/jonas/.cache/torch/transformers/b901c69e8e7da4a24c635ad81d016d274f174261f4f5c144e43f4b00e242c3b0.70bec105b4158ed9a1747fea67a43f5dee97855c64d62b6ec3742f4cfdb5feda.lock\n"
     ]
    },
    {
     "data": {
      "application/vnd.jupyter.widget-view+json": {
       "model_id": "d12cb650550a4b0489c1efbaceb878b3",
       "version_major": 2,
       "version_minor": 0
      },
      "text/plain": [
       "HBox(children=(FloatProgress(value=0.0, description='Downloading', max=456318.0, style=ProgressStyle(descripti…"
      ]
     },
     "metadata": {},
     "output_type": "display_data"
    },
    {
     "name": "stderr",
     "output_type": "stream",
     "text": [
      "10/03/2020 10:11:21 - INFO - filelock -   Lock 5297617696 released on /Users/jonas/.cache/torch/transformers/b901c69e8e7da4a24c635ad81d016d274f174261f4f5c144e43f4b00e242c3b0.70bec105b4158ed9a1747fea67a43f5dee97855c64d62b6ec3742f4cfdb5feda.lock\n"
     ]
    },
    {
     "name": "stdout",
     "output_type": "stream",
     "text": [
      "\n"
     ]
    },
    {
     "name": "stderr",
     "output_type": "stream",
     "text": [
      "10/03/2020 10:11:22 - INFO - filelock -   Lock 5297713792 acquired on /Users/jonas/.cache/torch/transformers/2d9b03b59a8af464bf4238025a3cf0e5a340b9d0ba77400011e23c130b452510.16f949018cf247a2ea7465a74ca9a292212875e5fd72f969e0807011e7f192e4.lock\n"
     ]
    },
    {
     "data": {
      "application/vnd.jupyter.widget-view+json": {
       "model_id": "e9e58cab1cd54cb49f54c23af862b9cb",
       "version_major": 2,
       "version_minor": 0
      },
      "text/plain": [
       "HBox(children=(FloatProgress(value=0.0, description='Downloading', max=150.0, style=ProgressStyle(description_…"
      ]
     },
     "metadata": {},
     "output_type": "display_data"
    },
    {
     "name": "stderr",
     "output_type": "stream",
     "text": [
      "10/03/2020 10:11:23 - INFO - filelock -   Lock 5297713792 released on /Users/jonas/.cache/torch/transformers/2d9b03b59a8af464bf4238025a3cf0e5a340b9d0ba77400011e23c130b452510.16f949018cf247a2ea7465a74ca9a292212875e5fd72f969e0807011e7f192e4.lock\n"
     ]
    },
    {
     "name": "stdout",
     "output_type": "stream",
     "text": [
      "\n"
     ]
    },
    {
     "name": "stderr",
     "output_type": "stream",
     "text": [
      "10/03/2020 10:11:24 - INFO - filelock -   Lock 5297703904 acquired on /Users/jonas/.cache/torch/transformers/507984f2e28c7dfed5db9a20acd68beb969c7f2833abc9e582e967fa0291f3dc.100c88dbe27dbd73822c575274ade4eb2427596ac56e96769249b7512341654d.lock\n"
     ]
    },
    {
     "data": {
      "application/vnd.jupyter.widget-view+json": {
       "model_id": "79fa6febbabb4f559752e950969c478f",
       "version_major": 2,
       "version_minor": 0
      },
      "text/plain": [
       "HBox(children=(FloatProgress(value=0.0, description='Downloading', max=189.0, style=ProgressStyle(description_…"
      ]
     },
     "metadata": {},
     "output_type": "display_data"
    },
    {
     "name": "stderr",
     "output_type": "stream",
     "text": [
      "10/03/2020 10:11:25 - INFO - filelock -   Lock 5297703904 released on /Users/jonas/.cache/torch/transformers/507984f2e28c7dfed5db9a20acd68beb969c7f2833abc9e582e967fa0291f3dc.100c88dbe27dbd73822c575274ade4eb2427596ac56e96769249b7512341654d.lock\n"
     ]
    },
    {
     "name": "stdout",
     "output_type": "stream",
     "text": [
      "\n"
     ]
    },
    {
     "name": "stderr",
     "output_type": "stream",
     "text": [
      "10/03/2020 10:11:26 - INFO - farm.utils -   device: cpu n_gpu: 0, distributed training: False, automatic mixed precision training: None\n",
      "10/03/2020 10:11:26 - INFO - farm.infer -   Got ya 3 parallel workers to do inference ...\n",
      "10/03/2020 10:11:26 - INFO - farm.infer -    0    0    0 \n",
      "10/03/2020 10:11:26 - INFO - farm.infer -   /w\\  /w\\  /w\\\n",
      "10/03/2020 10:11:26 - INFO - farm.infer -   /'\\  / \\  /'\\\n",
      "10/03/2020 10:11:26 - INFO - farm.infer -       \n"
     ]
    }
   ],
   "source": [
    "reader = FARMReader(model_name_or_path=\"deepset/roberta-base-squad2\", use_gpu=False)"
   ]
  },
  {
   "cell_type": "code",
   "execution_count": 52,
   "metadata": {},
   "outputs": [],
   "source": [
    "finder = Finder(reader, retriever)"
   ]
  },
  {
   "cell_type": "code",
   "execution_count": 62,
   "metadata": {},
   "outputs": [
    {
     "name": "stderr",
     "output_type": "stream",
     "text": [
      "10/03/2020 10:16:12 - INFO - elasticsearch -   POST http://localhost:9200/document/_search [status:200 request:0.065s]\n",
      "10/03/2020 10:16:12 - INFO - haystack.retriever.sparse -   Got 10 candidates from retriever\n",
      "10/03/2020 10:16:12 - INFO - haystack.finder -   Reader is looking for detailed answer in 3746 chars ...\n",
      "Inferencing Samples: 100%|██████████| 1/1 [00:00<00:00,  1.06 Batches/s]\n",
      "Inferencing Samples: 100%|██████████| 1/1 [00:00<00:00,  2.59 Batches/s]\n",
      "Inferencing Samples: 100%|██████████| 1/1 [00:00<00:00,  2.36 Batches/s]\n",
      "Inferencing Samples: 100%|██████████| 1/1 [00:00<00:00,  2.63 Batches/s]\n",
      "Inferencing Samples: 100%|██████████| 1/1 [00:00<00:00,  2.70 Batches/s]\n",
      "Inferencing Samples: 100%|██████████| 1/1 [00:00<00:00,  2.59 Batches/s]\n",
      "Inferencing Samples: 100%|██████████| 1/1 [00:00<00:00,  2.64 Batches/s]\n",
      "Inferencing Samples: 100%|██████████| 1/1 [00:00<00:00,  2.55 Batches/s]\n",
      "Inferencing Samples: 100%|██████████| 1/1 [00:00<00:00,  2.66 Batches/s]\n",
      "Inferencing Samples: 100%|██████████| 1/1 [00:00<00:00,  2.66 Batches/s]\n"
     ]
    }
   ],
   "source": [
    "prediction = finder.get_answers(question=\"what does mining do to the environment\", top_k_retriever=10, top_k_reader=5)"
   ]
  },
  {
   "cell_type": "code",
   "execution_count": 63,
   "metadata": {},
   "outputs": [
    {
     "name": "stdout",
     "output_type": "stream",
     "text": [
      "{   'answers': [   {   'answer': 'negative impacts on grasslands biodiversity',\n",
      "                       'context': ' has seen an increasing expansion of coal '\n",
      "                                  'mining with negative impacts on grasslands '\n",
      "                                  'biodiversity. Unfortunately DME does not '\n",
      "                                  'use the MBCP to guide th',\n",
      "                       'document_id': '70dd8aa2-f187-40db-ba50-4e0a1b4e60ae',\n",
      "                       'meta': {'PIMS_ID': '2929'},\n",
      "                       'offset_end': 97,\n",
      "                       'offset_end_in_doc': 486,\n",
      "                       'offset_start': 54,\n",
      "                       'offset_start_in_doc': 443,\n",
      "                       'probability': 0.7538280818426594,\n",
      "                       'score': 8.953073501586914},\n",
      "                   {   'answer': 'Number of agro-pastoralists having applied '\n",
      "                                 'sustainable intensification techniques',\n",
      "                       'context': 'soil\\'s mineral and organic nutrients.\", '\n",
      "                                  \"'Number of agro-pastoralists having applied \"\n",
      "                                  'sustainable intensification techniques '\n",
      "                                  'related to the environment.',\n",
      "                       'document_id': '4b9ed722-8e74-4889-88b2-e86b37661f63',\n",
      "                       'meta': {'PIMS_ID': '3170'},\n",
      "                       'offset_end': 122,\n",
      "                       'offset_end_in_doc': 217,\n",
      "                       'offset_start': 41,\n",
      "                       'offset_start_in_doc': 136,\n",
      "                       'probability': 0.5912390770555596,\n",
      "                       'score': 2.9527201652526855},\n",
      "                   {   'answer': 'illegal mining',\n",
      "                       'context': 'manent Multisectoral Commission for the '\n",
      "                                  'formalization of mining and illegal mining '\n",
      "                                  'does not address management aspects related '\n",
      "                                  'to ASGM.\\\\r\\\\n\\\\r\\\\nRegiona',\n",
      "                       'document_id': '09a6b122-f81d-498a-9db5-9bdff14914a9',\n",
      "                       'meta': {'PIMS_ID': '5874'},\n",
      "                       'offset_end': 82,\n",
      "                       'offset_end_in_doc': 196,\n",
      "                       'offset_start': 68,\n",
      "                       'offset_start_in_doc': 182,\n",
      "                       'probability': 0.37352686781972083,\n",
      "                       'score': -4.136927604675293},\n",
      "                   {   'answer': 'potential effects of environmental '\n",
      "                                 'variability or extreme events',\n",
      "                       'context': ' management do not effectively capture the '\n",
      "                                  'potential effects of environmental '\n",
      "                                  'variability or extreme events. The report '\n",
      "                                  'does not address disaster mana',\n",
      "                       'document_id': '32af01ad-f307-4256-8dc8-5f9ef858798d',\n",
      "                       'meta': {'PIMS_ID': '1899'},\n",
      "                       'offset_end': 107,\n",
      "                       'offset_end_in_doc': 139,\n",
      "                       'offset_start': 43,\n",
      "                       'offset_start_in_doc': 75,\n",
      "                       'probability': 0.3591294730506253,\n",
      "                       'score': -4.633155822753906},\n",
      "                   {   'answer': 'The legal environment does not encourage PPP '\n",
      "                                 'initiatives',\n",
      "                       'context': 'ntry fees are not retained by the '\n",
      "                                  'system\\\\n\\\\n4. The legal environment does '\n",
      "                                  'not encourage PPP initiatives \\\\n\\\\n5. PA '\n",
      "                                  'finance cross-subsidization initiati',\n",
      "                       'document_id': '3a79a131-22e8-4413-8778-829611104ba5',\n",
      "                       'meta': {'PIMS_ID': '4656'},\n",
      "                       'offset_end': 103,\n",
      "                       'offset_end_in_doc': 407,\n",
      "                       'offset_start': 47,\n",
      "                       'offset_start_in_doc': 351,\n",
      "                       'probability': 0.306961381507662,\n",
      "                       'score': -6.5149102210998535}],\n",
      "    'no_ans_gap': 4.847710609436035,\n",
      "    'question': 'what does mining do to the environment'}\n"
     ]
    }
   ],
   "source": [
    "print_answers(prediction)"
   ]
  },
  {
   "cell_type": "code",
   "execution_count": 59,
   "metadata": {},
   "outputs": [
    {
     "data": {
      "text/html": [
       "<div>\n",
       "<style scoped>\n",
       "    .dataframe tbody tr th:only-of-type {\n",
       "        vertical-align: middle;\n",
       "    }\n",
       "\n",
       "    .dataframe tbody tr th {\n",
       "        vertical-align: top;\n",
       "    }\n",
       "\n",
       "    .dataframe thead th {\n",
       "        text-align: right;\n",
       "    }\n",
       "</style>\n",
       "<table border=\"1\" class=\"dataframe\">\n",
       "  <thead>\n",
       "    <tr style=\"text-align: right;\">\n",
       "      <th></th>\n",
       "      <th>PIMS_ID</th>\n",
       "      <th>lead_country</th>\n",
       "      <th>description</th>\n",
       "      <th>log_frame</th>\n",
       "      <th>technical_team</th>\n",
       "      <th>focal_area</th>\n",
       "      <th>signature_programmes</th>\n",
       "      <th>full_title</th>\n",
       "      <th>keywords</th>\n",
       "      <th>region</th>\n",
       "      <th>...</th>\n",
       "      <th>sourcesOfFunds</th>\n",
       "      <th>participatingCountries</th>\n",
       "      <th>projectSectors</th>\n",
       "      <th>resultAreas</th>\n",
       "      <th>jointAgencies</th>\n",
       "      <th>objectives</th>\n",
       "      <th>outcomes</th>\n",
       "      <th>full_obj_or_outcome</th>\n",
       "      <th>language</th>\n",
       "      <th>text</th>\n",
       "    </tr>\n",
       "  </thead>\n",
       "  <tbody>\n",
       "    <tr>\n",
       "      <th>24</th>\n",
       "      <td>5874</td>\n",
       "      <td>Peru</td>\n",
       "      <td></td>\n",
       "      <td>[{'indicator': [{'end_of_project_target_level': '4 new partnership mechanism...</td>\n",
       "      <td>Chemicals</td>\n",
       "      <td>Chemicals and Waste</td>\n",
       "      <td>['SP 1. Reducing POPs and mercury releases through the sound management of c...</td>\n",
       "      <td>GEF GOLD Peru - Integrated Sound Management of Mercury in Peru’s Artisanal a...</td>\n",
       "      <td>[]</td>\n",
       "      <td>Latin America &amp; the Caribbean</td>\n",
       "      <td>...</td>\n",
       "      <td>['GEF Trust Fund']</td>\n",
       "      <td>['Peru']</td>\n",
       "      <td>[]</td>\n",
       "      <td>[]</td>\n",
       "      <td>['UN Environment']</td>\n",
       "      <td>['4 new partnership mechanisms with funding for gender friendly and sustaina...</td>\n",
       "      <td>['Capacity of 4 government entities increased to improve their capacity to a...</td>\n",
       "      <td>['4 new partnership mechanisms with funding for gender friendly and sustaina...</td>\n",
       "      <td>en</td>\n",
       "      <td>new partnership mechanism funding gender friendly sustainable management sol...</td>\n",
       "    </tr>\n",
       "  </tbody>\n",
       "</table>\n",
       "<p>1 rows × 33 columns</p>\n",
       "</div>"
      ],
      "text/plain": [
       "   PIMS_ID lead_country description  \\\n",
       "24    5874         Peru               \n",
       "\n",
       "                                                                          log_frame  \\\n",
       "24  [{'indicator': [{'end_of_project_target_level': '4 new partnership mechanism...   \n",
       "\n",
       "   technical_team           focal_area  \\\n",
       "24      Chemicals  Chemicals and Waste   \n",
       "\n",
       "                                                               signature_programmes  \\\n",
       "24  ['SP 1. Reducing POPs and mercury releases through the sound management of c...   \n",
       "\n",
       "                                                                         full_title  \\\n",
       "24  GEF GOLD Peru - Integrated Sound Management of Mercury in Peru’s Artisanal a...   \n",
       "\n",
       "   keywords                         region  ...      sourcesOfFunds  \\\n",
       "24       []  Latin America & the Caribbean  ...  ['GEF Trust Fund']   \n",
       "\n",
       "   participatingCountries projectSectors resultAreas       jointAgencies  \\\n",
       "24               ['Peru']             []          []  ['UN Environment']   \n",
       "\n",
       "                                                                         objectives  \\\n",
       "24  ['4 new partnership mechanisms with funding for gender friendly and sustaina...   \n",
       "\n",
       "                                                                           outcomes  \\\n",
       "24  ['Capacity of 4 government entities increased to improve their capacity to a...   \n",
       "\n",
       "                                                                full_obj_or_outcome  \\\n",
       "24  ['4 new partnership mechanisms with funding for gender friendly and sustaina...   \n",
       "\n",
       "   language  \\\n",
       "24       en   \n",
       "\n",
       "                                                                               text  \n",
       "24  new partnership mechanism funding gender friendly sustainable management sol...  \n",
       "\n",
       "[1 rows x 33 columns]"
      ]
     },
     "execution_count": 59,
     "metadata": {},
     "output_type": "execute_result"
    }
   ],
   "source": [
    "data.loc[data['PIMS_ID'] == \"5874\"]"
   ]
  },
  {
   "cell_type": "code",
   "execution_count": null,
   "metadata": {},
   "outputs": [
    {
     "name": "stderr",
     "output_type": "stream",
     "text": [
      "10/03/2020 10:28:53 - INFO - filelock -   Lock 6314954224 acquired on /Users/jonas/.cache/torch/transformers/8fdd0d2838c23f921379f2b0322aecf406cbdaa97ffecc544e3a1d49a7c302bd.6f90756c59007364d7842118056ad653f39f4d340fbe20bcc04037d2a45cb0f7.lock\n"
     ]
    },
    {
     "data": {
      "application/vnd.jupyter.widget-view+json": {
       "model_id": "2115fa64815d4c6da4193781bba83b5a",
       "version_major": 2,
       "version_minor": 0
      },
      "text/plain": [
       "HBox(children=(FloatProgress(value=0.0, description='Downloading', max=437986065.0, style=ProgressStyle(descri…"
      ]
     },
     "metadata": {},
     "output_type": "display_data"
    }
   ],
   "source": [
    "from haystack.retriever.dense import DensePassageRetriever\n",
    "retriever = DensePassageRetriever(document_store=document_store,\n",
    "                                  query_embedding_model=\"facebook/dpr-question_encoder-single-nq-base\",\n",
    "                                  passage_embedding_model=\"facebook/dpr-ctx_encoder-single-nq-base\",\n",
    "                                  use_gpu=True,\n",
    "                                  embed_title=True,\n",
    "                                  max_seq_len=512,\n",
    "                                  batch_size=16,\n",
    "                                  remove_sep_tok_from_untitled_passages=True)"
   ]
  },
  {
   "cell_type": "code",
   "execution_count": null,
   "metadata": {},
   "outputs": [],
   "source": []
  }
 ],
 "metadata": {
  "kernelspec": {
   "display_name": "Python 3",
   "language": "python",
   "name": "python3"
  },
  "language_info": {
   "codemirror_mode": {
    "name": "ipython",
    "version": 3
   },
   "file_extension": ".py",
   "mimetype": "text/x-python",
   "name": "python",
   "nbconvert_exporter": "python",
   "pygments_lexer": "ipython3",
   "version": "3.8.5"
  }
 },
 "nbformat": 4,
 "nbformat_minor": 4
}
